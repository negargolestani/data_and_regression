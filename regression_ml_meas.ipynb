{
 "cells": [
  {
   "cell_type": "code",
   "execution_count": 8,
   "metadata": {
    "tags": []
   },
   "outputs": [
    {
     "name": "stderr",
     "output_type": "stream",
     "text": [
      "Using TensorFlow backend.\n"
     ]
    }
   ],
   "source": [
    "from regression import*"
   ]
  },
  {
   "cell_type": "code",
   "execution_count": 9,
   "metadata": {},
   "outputs": [],
   "source": [
    "def train_save_model(setting, target, model_name):\n",
    "    result_folder = '../results/' + setting + '_' + target \n",
    "    create_folder(result_folder + '/plots/tmp')\n",
    "\n",
    "    # Train\n",
    "    train_data, _ = get_data(setting, target)\n",
    "    exp_reg = setup(train_data,\n",
    "                    train_size = .7,\n",
    "                    target = 'target', \n",
    "                    normalize = True, \n",
    "                    silent = True,\n",
    "                    verbose = False,\n",
    "                    session_id = 0)  \n",
    "\n",
    "    model = create_model(model_name)\n",
    "#     model = tune_model(model)\n",
    "    sm = save_model(model, result_folder +'/model')\n",
    "    return "
   ]
  },
  {
   "cell_type": "markdown",
   "metadata": {},
   "source": [
    "#### Single Node - Distance"
   ]
  },
  {
   "cell_type": "code",
   "execution_count": 6,
   "metadata": {},
   "outputs": [],
   "source": [
    "train_save_model( \n",
    "    setting = 'single', \n",
    "    target = 'r', \n",
    "    model_name = 'catboost')"
   ]
  },
  {
   "cell_type": "markdown",
   "metadata": {},
   "source": [
    "#### Single Node - Z"
   ]
  },
  {
   "cell_type": "code",
   "execution_count": 13,
   "metadata": {},
   "outputs": [],
   "source": [
    "train_save_model( \n",
    "    setting = 'single', \n",
    "    target = 'z', \n",
    "    model_name = 'catboost')"
   ]
  },
  {
   "cell_type": "markdown",
   "metadata": {},
   "source": [
    "#### Parallel - Distance"
   ]
  },
  {
   "cell_type": "code",
   "execution_count": 14,
   "metadata": {},
   "outputs": [],
   "source": [
    "train_save_model( \n",
    "    setting = 'parallel', \n",
    "    target = 'r', \n",
    "    model_name = 'et')"
   ]
  },
  {
   "cell_type": "markdown",
   "metadata": {},
   "source": [
    "#### Parallel - z"
   ]
  },
  {
   "cell_type": "code",
   "execution_count": 15,
   "metadata": {},
   "outputs": [],
   "source": [
    "train_save_model( \n",
    "    setting = 'parallel', \n",
    "    target = 'z', \n",
    "    model_name = 'et')"
   ]
  },
  {
   "cell_type": "code",
   "execution_count": null,
   "metadata": {},
   "outputs": [],
   "source": []
  },
  {
   "cell_type": "markdown",
   "metadata": {},
   "source": [
    "#### Orthogonal - Distance"
   ]
  },
  {
   "cell_type": "code",
   "execution_count": 13,
   "metadata": {},
   "outputs": [],
   "source": [
    "train_save_model( \n",
    "    setting = 'orthogonal', \n",
    "    target = 'r', \n",
    "    model_name = 'et')"
   ]
  },
  {
   "cell_type": "markdown",
   "metadata": {},
   "source": [
    "#### Orthogonal - Z"
   ]
  },
  {
   "cell_type": "code",
   "execution_count": null,
   "metadata": {},
   "outputs": [],
   "source": [
    "train_save_model( \n",
    "    setting = 'orthogonal', \n",
    "    target = 'z', \n",
    "    model_name = 'et')"
   ]
  }
 ],
 "metadata": {
  "kernelspec": {
   "display_name": "Python 3",
   "language": "python",
   "name": "python3"
  },
  "language_info": {
   "codemirror_mode": {
    "name": "ipython",
    "version": 3
   },
   "file_extension": ".py",
   "mimetype": "text/x-python",
   "name": "python",
   "nbconvert_exporter": "python",
   "pygments_lexer": "ipython3",
   "version": "3.7.6"
  }
 },
 "nbformat": 4,
 "nbformat_minor": 4
}
